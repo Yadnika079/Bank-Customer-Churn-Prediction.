{
  "nbformat": 4,
  "nbformat_minor": 0,
  "metadata": {
    "colab": {
      "name": "Untitled4.ipynb",
      "provenance": []
    },
    "kernelspec": {
      "name": "python3",
      "display_name": "Python 3"
    },
    "language_info": {
      "name": "python"
    }
  },
  "cells": [
    {
      "cell_type": "code",
      "execution_count": 3,
      "metadata": {
        "id": "nbi4O5tKZxYK"
      },
      "outputs": [],
      "source": [
        "import numpy as np\n",
        "import pandas as pd"
      ]
    },
    {
      "cell_type": "code",
      "source": [
        "dataset=pd.read_csv('/Churn_Modelling.csv')\n",
        "x=dataset.iloc[:,3:13]\n",
        "y=dataset.iloc[:,13]"
      ],
      "metadata": {
        "id": "fUJrzXQyakXG"
      },
      "execution_count": 7,
      "outputs": []
    },
    {
      "cell_type": "code",
      "source": [
        "geo=pd.get_dummies(x['Geography'], drop_first=True)\n",
        "gender=pd.get_dummies(x['Gender'],drop_first=True)"
      ],
      "metadata": {
        "id": "9hH8rd5yghDZ"
      },
      "execution_count": 8,
      "outputs": []
    },
    {
      "cell_type": "code",
      "source": [
        "x=pd.concat([x,geo,gender],axis=1)"
      ],
      "metadata": {
        "id": "ruexiKu5iLSG"
      },
      "execution_count": 9,
      "outputs": []
    },
    {
      "cell_type": "code",
      "source": [
        "x=x.drop(['Geography','Gender'], axis=1)"
      ],
      "metadata": {
        "id": "F2G1zLKa1nBD"
      },
      "execution_count": 20,
      "outputs": []
    },
    {
      "cell_type": "markdown",
      "source": [
        "random state is a seed value given to the random number generator\n",
        "\n",
        "drop_first removes the first column which is created for the first unique value of a column\n"
      ],
      "metadata": {
        "id": "f3SAtGCEjwOt"
      }
    },
    {
      "cell_type": "code",
      "source": [
        "from sklearn.model_selection import train_test_split \n",
        "x_train,x_test,y_train,y_test=train_test_split(x,y,test_size=0.2,random_state=0)"
      ],
      "metadata": {
        "id": "KS4W3cMfi0QK"
      },
      "execution_count": 21,
      "outputs": []
    },
    {
      "cell_type": "code",
      "source": [
        "from sklearn.preprocessing import StandardScaler\n",
        "sc=StandardScaler()\n",
        "x_train=sc.fit_transform(x_train)\n",
        "x_test=sc.transform(x_test)"
      ],
      "metadata": {
        "id": "ZWXGGlcFkPNe"
      },
      "execution_count": 22,
      "outputs": []
    },
    {
      "cell_type": "code",
      "source": [
        "import keras\n",
        "from keras.models import Sequential\n",
        "from keras.layers import Dense\n",
        "from keras.layers import LeakyReLU, PReLU, ELU\n",
        "from keras.layers import Dropout"
      ],
      "metadata": {
        "id": "Y48JnrRZ113t"
      },
      "execution_count": 33,
      "outputs": []
    },
    {
      "cell_type": "code",
      "source": [
        "classifier=Sequential()\n"
      ],
      "metadata": {
        "id": "eTLH5PBG2aY0"
      },
      "execution_count": 34,
      "outputs": []
    },
    {
      "cell_type": "code",
      "source": [
        "classifier.add(Dense(units=6, activation='relu' , input_dim=11, kernel_initializer='he_uniform'))"
      ],
      "metadata": {
        "id": "LZMApelw2e1s"
      },
      "execution_count": 36,
      "outputs": []
    },
    {
      "cell_type": "code",
      "source": [
        "classifier.add(Dense(units=6, activation='relu', kernel_initializer='he_uniform'))"
      ],
      "metadata": {
        "id": "YE3Cmd6L3hMY"
      },
      "execution_count": 37,
      "outputs": []
    },
    {
      "cell_type": "code",
      "source": [
        "classifier.add(Dense(units=1, kernel_initializer='glorot_uniform', activation='sigmoid'))"
      ],
      "metadata": {
        "id": "NBYX0x7V3hS6"
      },
      "execution_count": 39,
      "outputs": []
    },
    {
      "cell_type": "markdown",
      "source": [
        "A metric is a function that is used to judge the performance of your model."
      ],
      "metadata": {
        "id": "OdTzJ_144wQ7"
      }
    },
    {
      "cell_type": "code",
      "source": [
        "classifier.compile(optimizer='adam', loss='binary_crossentropy', metrics=['accuracy'])"
      ],
      "metadata": {
        "id": "oqKMujxJ4xR8"
      },
      "execution_count": 42,
      "outputs": []
    },
    {
      "cell_type": "code",
      "source": [
        "model_history=classifier.fit(x_train,y_train, validation_split=0.33,batch_size=10,epochs=100)"
      ],
      "metadata": {
        "colab": {
          "base_uri": "https://localhost:8080/"
        },
        "id": "FBTfnpWp573p",
        "outputId": "d9058cd8-5e18-489e-9108-61c8aca270e4"
      },
      "execution_count": 48,
      "outputs": [
        {
          "output_type": "stream",
          "name": "stdout",
          "text": [
            "Epoch 1/100\n",
            "536/536 [==============================] - 5s 5ms/step - loss: 0.5704 - accuracy: 0.7473 - val_loss: 0.4968 - val_accuracy: 0.7948\n",
            "Epoch 2/100\n",
            "536/536 [==============================] - 2s 4ms/step - loss: 0.4691 - accuracy: 0.7972 - val_loss: 0.4567 - val_accuracy: 0.7974\n",
            "Epoch 3/100\n",
            "536/536 [==============================] - 2s 4ms/step - loss: 0.4427 - accuracy: 0.8003 - val_loss: 0.4387 - val_accuracy: 0.8012\n",
            "Epoch 4/100\n",
            "536/536 [==============================] - 2s 4ms/step - loss: 0.4248 - accuracy: 0.8071 - val_loss: 0.4238 - val_accuracy: 0.8058\n",
            "Epoch 5/100\n",
            "536/536 [==============================] - 2s 4ms/step - loss: 0.4077 - accuracy: 0.8145 - val_loss: 0.4084 - val_accuracy: 0.8080\n",
            "Epoch 6/100\n",
            "536/536 [==============================] - 1s 2ms/step - loss: 0.3933 - accuracy: 0.8192 - val_loss: 0.3971 - val_accuracy: 0.8129\n",
            "Epoch 7/100\n",
            "536/536 [==============================] - 1s 2ms/step - loss: 0.3818 - accuracy: 0.8214 - val_loss: 0.3874 - val_accuracy: 0.8323\n",
            "Epoch 8/100\n",
            "536/536 [==============================] - 1s 2ms/step - loss: 0.3734 - accuracy: 0.8377 - val_loss: 0.3831 - val_accuracy: 0.8376\n",
            "Epoch 9/100\n",
            "536/536 [==============================] - 1s 2ms/step - loss: 0.3674 - accuracy: 0.8429 - val_loss: 0.3814 - val_accuracy: 0.8406\n",
            "Epoch 10/100\n",
            "536/536 [==============================] - 1s 2ms/step - loss: 0.3632 - accuracy: 0.8466 - val_loss: 0.3767 - val_accuracy: 0.8429\n",
            "Epoch 11/100\n",
            "536/536 [==============================] - 1s 2ms/step - loss: 0.3598 - accuracy: 0.8483 - val_loss: 0.3739 - val_accuracy: 0.8455\n",
            "Epoch 12/100\n",
            "536/536 [==============================] - 1s 2ms/step - loss: 0.3570 - accuracy: 0.8502 - val_loss: 0.3727 - val_accuracy: 0.8485\n",
            "Epoch 13/100\n",
            "536/536 [==============================] - 1s 2ms/step - loss: 0.3542 - accuracy: 0.8518 - val_loss: 0.3698 - val_accuracy: 0.8519\n",
            "Epoch 14/100\n",
            "536/536 [==============================] - 1s 2ms/step - loss: 0.3517 - accuracy: 0.8533 - val_loss: 0.3695 - val_accuracy: 0.8531\n",
            "Epoch 15/100\n",
            "536/536 [==============================] - 1s 2ms/step - loss: 0.3502 - accuracy: 0.8550 - val_loss: 0.3676 - val_accuracy: 0.8512\n",
            "Epoch 16/100\n",
            "536/536 [==============================] - 1s 2ms/step - loss: 0.3485 - accuracy: 0.8558 - val_loss: 0.3653 - val_accuracy: 0.8523\n",
            "Epoch 17/100\n",
            "536/536 [==============================] - 1s 2ms/step - loss: 0.3474 - accuracy: 0.8580 - val_loss: 0.3647 - val_accuracy: 0.8542\n",
            "Epoch 18/100\n",
            "536/536 [==============================] - 1s 2ms/step - loss: 0.3465 - accuracy: 0.8591 - val_loss: 0.3649 - val_accuracy: 0.8546\n",
            "Epoch 19/100\n",
            "536/536 [==============================] - 1s 2ms/step - loss: 0.3451 - accuracy: 0.8595 - val_loss: 0.3646 - val_accuracy: 0.8550\n",
            "Epoch 20/100\n",
            "536/536 [==============================] - 1s 2ms/step - loss: 0.3447 - accuracy: 0.8599 - val_loss: 0.3630 - val_accuracy: 0.8542\n",
            "Epoch 21/100\n",
            "536/536 [==============================] - 1s 2ms/step - loss: 0.3439 - accuracy: 0.8602 - val_loss: 0.3615 - val_accuracy: 0.8565\n",
            "Epoch 22/100\n",
            "536/536 [==============================] - 1s 2ms/step - loss: 0.3430 - accuracy: 0.8606 - val_loss: 0.3613 - val_accuracy: 0.8531\n",
            "Epoch 23/100\n",
            "536/536 [==============================] - 1s 2ms/step - loss: 0.3425 - accuracy: 0.8600 - val_loss: 0.3607 - val_accuracy: 0.8565\n",
            "Epoch 24/100\n",
            "536/536 [==============================] - 1s 2ms/step - loss: 0.3421 - accuracy: 0.8602 - val_loss: 0.3635 - val_accuracy: 0.8538\n",
            "Epoch 25/100\n",
            "536/536 [==============================] - 1s 2ms/step - loss: 0.3413 - accuracy: 0.8610 - val_loss: 0.3611 - val_accuracy: 0.8550\n",
            "Epoch 26/100\n",
            "536/536 [==============================] - 1s 2ms/step - loss: 0.3415 - accuracy: 0.8606 - val_loss: 0.3594 - val_accuracy: 0.8561\n",
            "Epoch 27/100\n",
            "536/536 [==============================] - 1s 2ms/step - loss: 0.3406 - accuracy: 0.8615 - val_loss: 0.3615 - val_accuracy: 0.8561\n",
            "Epoch 28/100\n",
            "536/536 [==============================] - 1s 2ms/step - loss: 0.3407 - accuracy: 0.8615 - val_loss: 0.3603 - val_accuracy: 0.8569\n",
            "Epoch 29/100\n",
            "536/536 [==============================] - 1s 2ms/step - loss: 0.3405 - accuracy: 0.8597 - val_loss: 0.3589 - val_accuracy: 0.8561\n",
            "Epoch 30/100\n",
            "536/536 [==============================] - 1s 2ms/step - loss: 0.3401 - accuracy: 0.8623 - val_loss: 0.3584 - val_accuracy: 0.8554\n",
            "Epoch 31/100\n",
            "536/536 [==============================] - 1s 2ms/step - loss: 0.3392 - accuracy: 0.8612 - val_loss: 0.3593 - val_accuracy: 0.8546\n",
            "Epoch 32/100\n",
            "536/536 [==============================] - 1s 2ms/step - loss: 0.3394 - accuracy: 0.8610 - val_loss: 0.3586 - val_accuracy: 0.8569\n",
            "Epoch 33/100\n",
            "536/536 [==============================] - 1s 2ms/step - loss: 0.3387 - accuracy: 0.8602 - val_loss: 0.3577 - val_accuracy: 0.8573\n",
            "Epoch 34/100\n",
            "536/536 [==============================] - 1s 2ms/step - loss: 0.3386 - accuracy: 0.8617 - val_loss: 0.3590 - val_accuracy: 0.8584\n",
            "Epoch 35/100\n",
            "536/536 [==============================] - 1s 2ms/step - loss: 0.3388 - accuracy: 0.8589 - val_loss: 0.3570 - val_accuracy: 0.8565\n",
            "Epoch 36/100\n",
            "536/536 [==============================] - 1s 2ms/step - loss: 0.3383 - accuracy: 0.8606 - val_loss: 0.3585 - val_accuracy: 0.8584\n",
            "Epoch 37/100\n",
            "536/536 [==============================] - 1s 2ms/step - loss: 0.3376 - accuracy: 0.8608 - val_loss: 0.3560 - val_accuracy: 0.8591\n",
            "Epoch 38/100\n",
            "536/536 [==============================] - 1s 2ms/step - loss: 0.3381 - accuracy: 0.8599 - val_loss: 0.3566 - val_accuracy: 0.8573\n",
            "Epoch 39/100\n",
            "536/536 [==============================] - 1s 2ms/step - loss: 0.3369 - accuracy: 0.8614 - val_loss: 0.3582 - val_accuracy: 0.8599\n",
            "Epoch 40/100\n",
            "536/536 [==============================] - 1s 2ms/step - loss: 0.3373 - accuracy: 0.8610 - val_loss: 0.3563 - val_accuracy: 0.8584\n",
            "Epoch 41/100\n",
            "536/536 [==============================] - 1s 2ms/step - loss: 0.3369 - accuracy: 0.8608 - val_loss: 0.3572 - val_accuracy: 0.8580\n",
            "Epoch 42/100\n",
            "536/536 [==============================] - 1s 2ms/step - loss: 0.3364 - accuracy: 0.8623 - val_loss: 0.3563 - val_accuracy: 0.8591\n",
            "Epoch 43/100\n",
            "536/536 [==============================] - 1s 2ms/step - loss: 0.3363 - accuracy: 0.8619 - val_loss: 0.3553 - val_accuracy: 0.8599\n",
            "Epoch 44/100\n",
            "536/536 [==============================] - 1s 2ms/step - loss: 0.3356 - accuracy: 0.8617 - val_loss: 0.3570 - val_accuracy: 0.8588\n",
            "Epoch 45/100\n",
            "536/536 [==============================] - 1s 2ms/step - loss: 0.3353 - accuracy: 0.8608 - val_loss: 0.3553 - val_accuracy: 0.8622\n",
            "Epoch 46/100\n",
            "536/536 [==============================] - 1s 2ms/step - loss: 0.3351 - accuracy: 0.8625 - val_loss: 0.3544 - val_accuracy: 0.8610\n",
            "Epoch 47/100\n",
            "536/536 [==============================] - 1s 2ms/step - loss: 0.3347 - accuracy: 0.8608 - val_loss: 0.3553 - val_accuracy: 0.8603\n",
            "Epoch 48/100\n",
            "536/536 [==============================] - 1s 2ms/step - loss: 0.3343 - accuracy: 0.8628 - val_loss: 0.3550 - val_accuracy: 0.8603\n",
            "Epoch 49/100\n",
            "536/536 [==============================] - 1s 2ms/step - loss: 0.3346 - accuracy: 0.8619 - val_loss: 0.3548 - val_accuracy: 0.8603\n",
            "Epoch 50/100\n",
            "536/536 [==============================] - 1s 2ms/step - loss: 0.3343 - accuracy: 0.8612 - val_loss: 0.3535 - val_accuracy: 0.8610\n",
            "Epoch 51/100\n",
            "536/536 [==============================] - 1s 2ms/step - loss: 0.3339 - accuracy: 0.8621 - val_loss: 0.3555 - val_accuracy: 0.8599\n",
            "Epoch 52/100\n",
            "536/536 [==============================] - 1s 2ms/step - loss: 0.3333 - accuracy: 0.8634 - val_loss: 0.3559 - val_accuracy: 0.8629\n",
            "Epoch 53/100\n",
            "536/536 [==============================] - 2s 4ms/step - loss: 0.3328 - accuracy: 0.8621 - val_loss: 0.3551 - val_accuracy: 0.8599\n",
            "Epoch 54/100\n",
            "536/536 [==============================] - 2s 3ms/step - loss: 0.3330 - accuracy: 0.8642 - val_loss: 0.3554 - val_accuracy: 0.8614\n",
            "Epoch 55/100\n",
            "536/536 [==============================] - 1s 2ms/step - loss: 0.3324 - accuracy: 0.8634 - val_loss: 0.3560 - val_accuracy: 0.8610\n",
            "Epoch 56/100\n",
            "536/536 [==============================] - 1s 2ms/step - loss: 0.3324 - accuracy: 0.8647 - val_loss: 0.3554 - val_accuracy: 0.8629\n",
            "Epoch 57/100\n",
            "536/536 [==============================] - 1s 2ms/step - loss: 0.3325 - accuracy: 0.8628 - val_loss: 0.3547 - val_accuracy: 0.8622\n",
            "Epoch 58/100\n",
            "536/536 [==============================] - 1s 2ms/step - loss: 0.3315 - accuracy: 0.8647 - val_loss: 0.3556 - val_accuracy: 0.8610\n",
            "Epoch 59/100\n",
            "536/536 [==============================] - 1s 2ms/step - loss: 0.3323 - accuracy: 0.8632 - val_loss: 0.3548 - val_accuracy: 0.8622\n",
            "Epoch 60/100\n",
            "536/536 [==============================] - 1s 2ms/step - loss: 0.3316 - accuracy: 0.8642 - val_loss: 0.3554 - val_accuracy: 0.8603\n",
            "Epoch 61/100\n",
            "536/536 [==============================] - 1s 2ms/step - loss: 0.3311 - accuracy: 0.8628 - val_loss: 0.3551 - val_accuracy: 0.8618\n",
            "Epoch 62/100\n",
            "536/536 [==============================] - 1s 2ms/step - loss: 0.3310 - accuracy: 0.8643 - val_loss: 0.3558 - val_accuracy: 0.8614\n",
            "Epoch 63/100\n",
            "536/536 [==============================] - 1s 2ms/step - loss: 0.3304 - accuracy: 0.8627 - val_loss: 0.3550 - val_accuracy: 0.8610\n",
            "Epoch 64/100\n",
            "536/536 [==============================] - 1s 2ms/step - loss: 0.3306 - accuracy: 0.8628 - val_loss: 0.3553 - val_accuracy: 0.8607\n",
            "Epoch 65/100\n",
            "536/536 [==============================] - 1s 2ms/step - loss: 0.3301 - accuracy: 0.8660 - val_loss: 0.3551 - val_accuracy: 0.8599\n",
            "Epoch 66/100\n",
            "536/536 [==============================] - 1s 2ms/step - loss: 0.3304 - accuracy: 0.8651 - val_loss: 0.3548 - val_accuracy: 0.8614\n",
            "Epoch 67/100\n",
            "536/536 [==============================] - 1s 2ms/step - loss: 0.3303 - accuracy: 0.8647 - val_loss: 0.3544 - val_accuracy: 0.8595\n",
            "Epoch 68/100\n",
            "536/536 [==============================] - 1s 2ms/step - loss: 0.3299 - accuracy: 0.8623 - val_loss: 0.3573 - val_accuracy: 0.8588\n",
            "Epoch 69/100\n",
            "536/536 [==============================] - 1s 2ms/step - loss: 0.3303 - accuracy: 0.8628 - val_loss: 0.3541 - val_accuracy: 0.8607\n",
            "Epoch 70/100\n",
            "536/536 [==============================] - 1s 2ms/step - loss: 0.3296 - accuracy: 0.8643 - val_loss: 0.3544 - val_accuracy: 0.8607\n",
            "Epoch 71/100\n",
            "536/536 [==============================] - 1s 2ms/step - loss: 0.3295 - accuracy: 0.8640 - val_loss: 0.3553 - val_accuracy: 0.8588\n",
            "Epoch 72/100\n",
            "536/536 [==============================] - 1s 2ms/step - loss: 0.3289 - accuracy: 0.8651 - val_loss: 0.3551 - val_accuracy: 0.8607\n",
            "Epoch 73/100\n",
            "536/536 [==============================] - 1s 2ms/step - loss: 0.3290 - accuracy: 0.8660 - val_loss: 0.3542 - val_accuracy: 0.8607\n",
            "Epoch 74/100\n",
            "536/536 [==============================] - 1s 2ms/step - loss: 0.3284 - accuracy: 0.8640 - val_loss: 0.3543 - val_accuracy: 0.8610\n",
            "Epoch 75/100\n",
            "536/536 [==============================] - 1s 2ms/step - loss: 0.3280 - accuracy: 0.8662 - val_loss: 0.3551 - val_accuracy: 0.8580\n",
            "Epoch 76/100\n",
            "536/536 [==============================] - 1s 2ms/step - loss: 0.3282 - accuracy: 0.8664 - val_loss: 0.3565 - val_accuracy: 0.8565\n",
            "Epoch 77/100\n",
            "536/536 [==============================] - 1s 2ms/step - loss: 0.3287 - accuracy: 0.8642 - val_loss: 0.3540 - val_accuracy: 0.8614\n",
            "Epoch 78/100\n",
            "536/536 [==============================] - 1s 2ms/step - loss: 0.3282 - accuracy: 0.8649 - val_loss: 0.3532 - val_accuracy: 0.8599\n",
            "Epoch 79/100\n",
            "536/536 [==============================] - 1s 2ms/step - loss: 0.3273 - accuracy: 0.8664 - val_loss: 0.3539 - val_accuracy: 0.8588\n",
            "Epoch 80/100\n",
            "536/536 [==============================] - 1s 2ms/step - loss: 0.3282 - accuracy: 0.8643 - val_loss: 0.3543 - val_accuracy: 0.8603\n",
            "Epoch 81/100\n",
            "536/536 [==============================] - 1s 2ms/step - loss: 0.3279 - accuracy: 0.8662 - val_loss: 0.3536 - val_accuracy: 0.8580\n",
            "Epoch 82/100\n",
            "536/536 [==============================] - 1s 2ms/step - loss: 0.3272 - accuracy: 0.8653 - val_loss: 0.3545 - val_accuracy: 0.8599\n",
            "Epoch 83/100\n",
            "536/536 [==============================] - 1s 2ms/step - loss: 0.3277 - accuracy: 0.8658 - val_loss: 0.3545 - val_accuracy: 0.8610\n",
            "Epoch 84/100\n",
            "536/536 [==============================] - 1s 3ms/step - loss: 0.3273 - accuracy: 0.8643 - val_loss: 0.3543 - val_accuracy: 0.8576\n",
            "Epoch 85/100\n",
            "536/536 [==============================] - 1s 3ms/step - loss: 0.3273 - accuracy: 0.8649 - val_loss: 0.3543 - val_accuracy: 0.8584\n",
            "Epoch 86/100\n",
            "536/536 [==============================] - 1s 2ms/step - loss: 0.3273 - accuracy: 0.8670 - val_loss: 0.3570 - val_accuracy: 0.8573\n",
            "Epoch 87/100\n",
            "536/536 [==============================] - 1s 2ms/step - loss: 0.3266 - accuracy: 0.8655 - val_loss: 0.3554 - val_accuracy: 0.8588\n",
            "Epoch 88/100\n",
            "536/536 [==============================] - 1s 2ms/step - loss: 0.3273 - accuracy: 0.8671 - val_loss: 0.3562 - val_accuracy: 0.8588\n",
            "Epoch 89/100\n",
            "536/536 [==============================] - 1s 2ms/step - loss: 0.3273 - accuracy: 0.8658 - val_loss: 0.3570 - val_accuracy: 0.8565\n",
            "Epoch 90/100\n",
            "536/536 [==============================] - 1s 2ms/step - loss: 0.3273 - accuracy: 0.8647 - val_loss: 0.3543 - val_accuracy: 0.8584\n",
            "Epoch 91/100\n",
            "536/536 [==============================] - 1s 2ms/step - loss: 0.3263 - accuracy: 0.8686 - val_loss: 0.3561 - val_accuracy: 0.8591\n",
            "Epoch 92/100\n",
            "536/536 [==============================] - 1s 2ms/step - loss: 0.3269 - accuracy: 0.8647 - val_loss: 0.3565 - val_accuracy: 0.8557\n",
            "Epoch 93/100\n",
            "536/536 [==============================] - 1s 2ms/step - loss: 0.3271 - accuracy: 0.8655 - val_loss: 0.3566 - val_accuracy: 0.8569\n",
            "Epoch 94/100\n",
            "536/536 [==============================] - 1s 2ms/step - loss: 0.3268 - accuracy: 0.8651 - val_loss: 0.3559 - val_accuracy: 0.8576\n",
            "Epoch 95/100\n",
            "536/536 [==============================] - 1s 2ms/step - loss: 0.3266 - accuracy: 0.8662 - val_loss: 0.3551 - val_accuracy: 0.8561\n",
            "Epoch 96/100\n",
            "536/536 [==============================] - 1s 2ms/step - loss: 0.3267 - accuracy: 0.8686 - val_loss: 0.3553 - val_accuracy: 0.8588\n",
            "Epoch 97/100\n",
            "536/536 [==============================] - 1s 2ms/step - loss: 0.3269 - accuracy: 0.8660 - val_loss: 0.3566 - val_accuracy: 0.8584\n",
            "Epoch 98/100\n",
            "536/536 [==============================] - 1s 2ms/step - loss: 0.3266 - accuracy: 0.8656 - val_loss: 0.3550 - val_accuracy: 0.8588\n",
            "Epoch 99/100\n",
            "536/536 [==============================] - 1s 2ms/step - loss: 0.3266 - accuracy: 0.8662 - val_loss: 0.3556 - val_accuracy: 0.8576\n",
            "Epoch 100/100\n",
            "536/536 [==============================] - 1s 2ms/step - loss: 0.3263 - accuracy: 0.8664 - val_loss: 0.3565 - val_accuracy: 0.8573\n"
          ]
        }
      ]
    },
    {
      "cell_type": "code",
      "source": [
        "y_pred=classifier.predict(x_test)\n",
        "y_pred=(y_pred>0.5)"
      ],
      "metadata": {
        "id": "qj-efWZb5VQK"
      },
      "execution_count": 52,
      "outputs": []
    },
    {
      "cell_type": "code",
      "source": [
        "from sklearn.metrics import confusion_matrix\n",
        "cm=confusion_matrix(y_test,y_pred)"
      ],
      "metadata": {
        "id": "6vmwXAH35ku-"
      },
      "execution_count": 53,
      "outputs": []
    },
    {
      "cell_type": "code",
      "source": [
        "from sklearn.metrics import accuracy_score\n",
        "score=accuracy_score(y_pred,y_test)"
      ],
      "metadata": {
        "id": "aFsrCPjUJcjX"
      },
      "execution_count": 54,
      "outputs": []
    }
  ]
}